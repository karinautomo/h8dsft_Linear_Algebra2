{
 "cells": [
  {
   "cell_type": "markdown",
   "metadata": {},
   "source": [
    "# Non Graded Challenge 5"
   ]
  },
  {
   "cell_type": "markdown",
   "metadata": {},
   "source": [
    "Week 2 Day 2 - Linear Algebra (Matrix)\n",
    "<br>\n",
    "Nama: Karina Utomo\n",
    "<br>\n",
    "Hacktiv8 Full Time Data Science Batch 003"
   ]
  },
  {
   "cell_type": "markdown",
   "metadata": {},
   "source": [
    "# Assignment Instructions"
   ]
  },
  {
   "cell_type": "markdown",
   "metadata": {},
   "source": [
    "1. Membuat tensor dengan python\n",
    "2. Melakukan perkalian dua matriks\n",
    "3. Melakukan transpose, menghitung determinan, dan melakukan invers terhadap suatu matriks"
   ]
  },
  {
   "cell_type": "markdown",
   "metadata": {},
   "source": [
    "# Assignment Program"
   ]
  },
  {
   "cell_type": "code",
   "execution_count": 1,
   "metadata": {},
   "outputs": [],
   "source": [
    "import numpy as np\n",
    "import pandas as pd"
   ]
  },
  {
   "cell_type": "markdown",
   "metadata": {},
   "source": [
    "**1. Buatlah Tensor di bawah ini dengan Python**"
   ]
  },
  {
   "attachments": {
    "Screen%20Shot%202021-08-31%20at%2017.53.22.png": {
     "image/png": "[encoded data removed]"
    }
   },
   "cell_type": "markdown",
   "metadata": {},
   "source": [
    "<img src = 'attachment:Screen%20Shot%202021-08-31%20at%2017.53.22.png' width = '250' align = 'left'/>"
   ]
  },
  {
   "cell_type": "code",
   "execution_count": 2,
   "metadata": {},
   "outputs": [],
   "source": [
    "T = np.array([\n",
    "    [[[23, 50], [7, 12]], [[57, 67], [99, 43]]],\n",
    "    [[[75, 21], [57, 12]], [[87, 26], [18, 84]]]\n",
    "])"
   ]
  },
  {
   "cell_type": "code",
   "execution_count": 3,
   "metadata": {},
   "outputs": [
    {
     "data": {
      "text/plain": [
       "(2, 2, 2, 2)"
      ]
     },
     "execution_count": 3,
     "metadata": {},
     "output_type": "execute_result"
    }
   ],
   "source": [
    "T.shape"
   ]
  },
  {
   "cell_type": "markdown",
   "metadata": {},
   "source": [
    "***\n",
    "**2. Lakukan perkalian terhadap matriks berikut:**\n",
    "\n",
    "$\\textbf{A}= \\left[\\begin{matrix}\n",
    "23 & 50 & 19 \\\\\n",
    "7 & 12 & 109 \\\\\n",
    "57 & 67 & 98\n",
    "\\end{matrix}\\right]$\n",
    ",\n",
    "$\\textbf{B}= \\left[\\begin{matrix}\n",
    "17 \\\\\n",
    "22 \\\\\n",
    "19 \n",
    "\\end{matrix}\\right]$"
   ]
  },
  {
   "cell_type": "code",
   "execution_count": 4,
   "metadata": {},
   "outputs": [],
   "source": [
    "A = np.array([\n",
    "    [23, 50, 19], \n",
    "    [7, 12, 109], \n",
    "    [57, 67, 98]\n",
    "])\n",
    "\n",
    "B = np.array([17, 22, 19])"
   ]
  },
  {
   "cell_type": "code",
   "execution_count": 5,
   "metadata": {},
   "outputs": [
    {
     "data": {
      "text/plain": [
       "array([1852, 2454, 4305])"
      ]
     },
     "execution_count": 5,
     "metadata": {},
     "output_type": "execute_result"
    }
   ],
   "source": [
    "A@B"
   ]
  },
  {
   "cell_type": "markdown",
   "metadata": {},
   "source": [
    "Untuk perkalian kedua matriks, digunakan dot product. Hasilnya adalah:\n",
    "\n",
    "$\\textbf{A} \\cdot \\textbf{B} =\n",
    "\\left[\\begin{matrix}\n",
    "23 & 50 & 19 \\\\\n",
    "7 & 12 & 109 \\\\\n",
    "57 & 67 & 98\n",
    "\\end{matrix}\\right] \\cdot\n",
    "\\left[\\begin{matrix}\n",
    "17 \\\\\n",
    "22 \\\\\n",
    "19 \n",
    "\\end{matrix}\\right] =\n",
    "\\left[\\begin{matrix}\n",
    "1852 \\\\\n",
    "2454 \\\\\n",
    "4305 \n",
    "\\end{matrix}\\right]\n",
    "$"
   ]
  },
  {
   "cell_type": "markdown",
   "metadata": {},
   "source": [
    "***\n",
    "**3. Lakukan Transpose, hitung determinan, dan inverse terhadap matrix dibawah ini:**\n",
    "\n",
    "$\\textbf{A}= \\left[\\begin{matrix}\n",
    "23 & 50 & 19 \\\\\n",
    "7 & 12 & 109 \\\\\n",
    "57 & 67 & 98\n",
    "\\end{matrix}\\right]$"
   ]
  },
  {
   "cell_type": "code",
   "execution_count": 6,
   "metadata": {},
   "outputs": [
    {
     "data": {
      "text/plain": [
       "array([[ 23,   7,  57],\n",
       "       [ 50,  12,  67],\n",
       "       [ 19, 109,  98]])"
      ]
     },
     "execution_count": 6,
     "metadata": {},
     "output_type": "execute_result"
    }
   ],
   "source": [
    "A.T"
   ]
  },
  {
   "cell_type": "markdown",
   "metadata": {},
   "source": [
    "Hasil transpose dari matriks A adalah:\n",
    "\n",
    "$\\textbf{A}^T= \\left[\\begin{matrix}\n",
    "23 & 7 & 57 \\\\\n",
    "50 & 12 & 67 \\\\\n",
    "19 & 109 & 98\n",
    "\\end{matrix}\\right]$"
   ]
  },
  {
   "cell_type": "code",
   "execution_count": 7,
   "metadata": {},
   "outputs": [
    {
     "data": {
      "text/plain": [
       "131344.0000000002"
      ]
     },
     "execution_count": 7,
     "metadata": {},
     "output_type": "execute_result"
    }
   ],
   "source": [
    "np.linalg.det(A)"
   ]
  },
  {
   "cell_type": "markdown",
   "metadata": {},
   "source": [
    "Hasil determinan dari matriks A adalah:\n",
    "\n",
    "$\\textbf{det(A)} = 131344$"
   ]
  },
  {
   "cell_type": "code",
   "execution_count": 8,
   "metadata": {},
   "outputs": [
    {
     "data": {
      "text/plain": [
       "array([[-0.0466485 , -0.02761451,  0.03975819],\n",
       "       [ 0.04208034,  0.00891552, -0.01807467],\n",
       "       [-0.00163692,  0.0099662 , -0.00056341]])"
      ]
     },
     "execution_count": 8,
     "metadata": {},
     "output_type": "execute_result"
    }
   ],
   "source": [
    "np.linalg.inv(A)"
   ]
  },
  {
   "cell_type": "markdown",
   "metadata": {},
   "source": [
    "Hasil inverse dari matriks A adalah\n",
    "\n",
    "$\\textbf{A}^{-1}= \\left[\\begin{matrix}\n",
    "-0.0466485 & -0.02761451 & 0.03975819 \\\\\n",
    "0.04208034 & 0.00891552 & -0.01807467 \\\\\n",
    "-0.00163692 & 0.0099662 & -0.00056341\n",
    "\\end{matrix}\\right]$"
   ]
  },
  {
   "cell_type": "code",
   "execution_count": null,
   "metadata": {},
   "outputs": [],
   "source": []
  }
 ],
 "metadata": {
  "kernelspec": {
   "display_name": "Python 3",
   "language": "python",
   "name": "python3"
  },
  "language_info": {
   "codemirror_mode": {
    "name": "ipython",
    "version": 3
   },
   "file_extension": ".py",
   "mimetype": "text/x-python",
   "name": "python",
   "nbconvert_exporter": "python",
   "pygments_lexer": "ipython3",
   "version": "3.8.3"
  }
 },
 "nbformat": 4,
 "nbformat_minor": 4
}
